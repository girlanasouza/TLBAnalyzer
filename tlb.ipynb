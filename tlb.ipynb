{
 "cells": [
  {
   "cell_type": "code",
   "execution_count": 1,
   "id": "dc396117",
   "metadata": {},
   "outputs": [],
   "source": [
    "from collections import OrderedDict"
   ]
  },
  {
   "cell_type": "code",
   "execution_count": null,
   "id": "6b08d1a7",
   "metadata": {},
   "outputs": [],
   "source": [
    "PAGE_SIZE =  2097152 \n",
    "TLB_SIZE = 16"
   ]
  },
  {
   "cell_type": "code",
   "execution_count": 3,
   "id": "09caad43",
   "metadata": {},
   "outputs": [],
   "source": [
    "class TLB:\n",
    "    def __init__(self, size=TLB_SIZE, page_size=PAGE_SIZE):\n",
    "        self.size = size\n",
    "        self.page_size = page_size\n",
    "        self.entries = OrderedDict() \n",
    "        self.swap_count = 0\n",
    "        self.mc = 0\n",
    "\n",
    "    def access(self, vaddr):\n",
    "        vpn = vaddr // self.page_size\n",
    "        if vpn in self.entries:\n",
    "            self.entries.move_to_end(vpn)  # Move the accessed entry to the end to mark it as recently used\n",
    "            return True  # TLB hit\n",
    "        else:\n",
    "            if len(self.entries) >= self.size: \n",
    "                self.entries.popitem(last=False) # Evict the least recently used entry\n",
    "                if self.mc >= 209:\n",
    "                    self.swap_count += 1\n",
    "            self.entries[vpn] = vaddr\n",
    "            self.mc += 1\n",
    "            return False # TLB miss"
   ]
  },
  {
   "cell_type": "code",
   "execution_count": 4,
   "id": "9c2630a5",
   "metadata": {},
   "outputs": [],
   "source": [
    "tlb = TLB(TLB_SIZE, PAGE_SIZE)\n",
    "count_misses = 0\n",
    "count_hits = 0"
   ]
  },
  {
   "cell_type": "code",
   "execution_count": 5,
   "id": "49b41c1f",
   "metadata": {},
   "outputs": [
    {
     "name": "stdout",
     "output_type": "stream",
     "text": [
      "TLB Size: 16, Page Size: 2097152\n",
      "TLB Hits: 4813535, TLB Misses: 4\n"
     ]
    }
   ],
   "source": [
    "with open('input/memaccess.log', 'r') as log_file:\n",
    "    for line in log_file:\n",
    "        parts = line.strip().split()\n",
    "        vaddr_str = parts[-1]\n",
    "        vaddr = int(vaddr_str, 16)\n",
    "        if tlb.access(vaddr):\n",
    "            count_hits += 1\n",
    "        else:\n",
    "            count_misses += 1\n",
    "print(f\"TLB Size: {tlb.size}, Page Size: {tlb.page_size}\")\n",
    "print(f\"TLB Hits: {count_hits}, TLB Misses: {count_misses}\")\n"
   ]
  },
  {
   "cell_type": "code",
   "execution_count": 6,
   "id": "beb07cec",
   "metadata": {},
   "outputs": [
    {
     "name": "stdout",
     "output_type": "stream",
     "text": [
      "Swap Count: 0\n"
     ]
    }
   ],
   "source": [
    "print(f\"Swap Count: {tlb.swap_count}\")"
   ]
  }
 ],
 "metadata": {
  "kernelspec": {
   "display_name": "venv",
   "language": "python",
   "name": "python3"
  },
  "language_info": {
   "codemirror_mode": {
    "name": "ipython",
    "version": 3
   },
   "file_extension": ".py",
   "mimetype": "text/x-python",
   "name": "python",
   "nbconvert_exporter": "python",
   "pygments_lexer": "ipython3",
   "version": "3.13.3"
  }
 },
 "nbformat": 4,
 "nbformat_minor": 5
}
